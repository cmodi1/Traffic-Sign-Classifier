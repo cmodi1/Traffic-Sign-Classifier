{
 "cells": [
  {
   "cell_type": "markdown",
   "metadata": {},
   "source": [
    "# Self-Driving Car Engineer Nanodegree\n",
    "\n",
    "## Deep Learning\n",
    "\n",
    "## Project: Build a Traffic Sign Recognition Classifier\n",
    "\n",
    "In this notebook, a template is provided for you to implement your functionality in stages, which is required to successfully complete this project. If additional code is required that cannot be included in the notebook, be sure that the Python code is successfully imported and included in your submission if necessary. \n",
    "\n",
    "> **Note**: Once you have completed all of the code implementations, you need to finalize your work by exporting the iPython Notebook as an HTML document. Before exporting the notebook to html, all of the code cells need to have been run so that reviewers can see the final implementation and output. You can then export the notebook by using the menu above and navigating to  \\n\",\n",
    "    \"**File -> Download as -> HTML (.html)**. Include the finished document along with this notebook as your submission. \n",
    "\n",
    "In addition to implementing code, there is a writeup to complete. The writeup should be completed in a separate file, which can be either a markdown file or a pdf document. There is a [write up template](https://github.com/udacity/CarND-Traffic-Sign-Classifier-Project/blob/master/writeup_template.md) that can be used to guide the writing process. Completing the code template and writeup template will cover all of the [rubric points](https://review.udacity.com/#!/rubrics/481/view) for this project.\n",
    "\n",
    "The [rubric](https://review.udacity.com/#!/rubrics/481/view) contains \"Stand Out Suggestions\" for enhancing the project beyond the minimum requirements. The stand out suggestions are optional. If you decide to pursue the \"stand out suggestions\", you can include the code in this Ipython notebook and also discuss the results in the writeup file.\n",
    "\n",
    "\n",
    ">**Note:** Code and Markdown cells can be executed using the **Shift + Enter** keyboard shortcut. In addition, Markdown cells can be edited by typically double-clicking the cell to enter edit mode."
   ]
  },
  {
   "cell_type": "code",
   "execution_count": 1,
   "metadata": {},
   "outputs": [],
   "source": [
    "import matplotlib.pyplot as plt\n",
    "import matplotlib.image as mpimg\n",
    "import random\n",
    "import numpy as np\n",
    "import pickle"
   ]
  },
  {
   "cell_type": "markdown",
   "metadata": {},
   "source": [
    "---\n",
    "## Step 0: Load The Data"
   ]
  },
  {
   "cell_type": "code",
   "execution_count": 2,
   "metadata": {},
   "outputs": [],
   "source": [
    "# Load pickled data\n",
    "# TODO: Fill this in based on where you saved the training and testing data\n",
    "\n",
    "training_file = '../data/train.p'\n",
    "validation_file= '../data/valid.p'\n",
    "testing_file = '../data/test.p'\n",
    "\n",
    "with open(training_file, mode='rb') as f:\n",
    "    train = pickle.load(f)\n",
    "with open(validation_file, mode='rb') as f:\n",
    "    valid = pickle.load(f)\n",
    "with open(testing_file, mode='rb') as f:\n",
    "    test = pickle.load(f)\n",
    "    \n",
    "X_train, y_train = train['features'], train['labels']\n",
    "X_valid, y_valid = valid['features'], valid['labels']\n",
    "X_test, y_test = test['features'], test['labels']"
   ]
  },
  {
   "cell_type": "code",
   "execution_count": 3,
   "metadata": {},
   "outputs": [
    {
     "data": {
      "text/plain": [
       "(32, 32, 3)"
      ]
     },
     "execution_count": 3,
     "metadata": {},
     "output_type": "execute_result"
    }
   ],
   "source": [
    "X_train[0].shape"
   ]
  },
  {
   "cell_type": "code",
   "execution_count": 4,
   "metadata": {},
   "outputs": [
    {
     "data": {
      "text/plain": [
       "(34799,)"
      ]
     },
     "execution_count": 4,
     "metadata": {},
     "output_type": "execute_result"
    }
   ],
   "source": [
    "y_train.shape"
   ]
  },
  {
   "cell_type": "markdown",
   "metadata": {},
   "source": [
    "---\n",
    "\n",
    "## Step 1: Dataset Summary & Exploration\n",
    "\n",
    "The pickled data is a dictionary with 4 key/value pairs:\n",
    "\n",
    "- `'features'` is a 4D array containing raw pixel data of the traffic sign images, (num examples, width, height, channels).\n",
    "- `'labels'` is a 1D array containing the label/class id of the traffic sign. The file `signnames.csv` contains id -> name mappings for each id.\n",
    "- `'sizes'` is a list containing tuples, (width, height) representing the original width and height the image.\n",
    "- `'coords'` is a list containing tuples, (x1, y1, x2, y2) representing coordinates of a bounding box around the sign in the image. **THESE COORDINATES ASSUME THE ORIGINAL IMAGE. THE PICKLED DATA CONTAINS RESIZED VERSIONS (32 by 32) OF THESE IMAGES**\n",
    "\n",
    "Complete the basic data summary below. Use python, numpy and/or pandas methods to calculate the data summary rather than hard coding the results. For example, the [pandas shape method](http://pandas.pydata.org/pandas-docs/stable/generated/pandas.DataFrame.shape.html) might be useful for calculating some of the summary results. "
   ]
  },
  {
   "cell_type": "markdown",
   "metadata": {},
   "source": [
    "### Provide a Basic Summary of the Data Set Using Python, Numpy and/or Pandas"
   ]
  },
  {
   "cell_type": "code",
   "execution_count": 5,
   "metadata": {},
   "outputs": [
    {
     "name": "stdout",
     "output_type": "stream",
     "text": [
      "Number of training examples = 34799\n",
      "Number of testing examples = 12630\n",
      "Image data shape = (32, 32, 3)\n",
      "Number of classes = 43\n"
     ]
    }
   ],
   "source": [
    "### Replace each question mark with the appropriate value. \n",
    "### Use python, pandas or numpy methods rather than hard coding the results\n",
    "\n",
    "# TODO: Number of training examples\n",
    "n_train = X_train.shape[0]\n",
    "\n",
    "# TODO: Number of validation examples\n",
    "n_validation = X_valid.shape[0]\n",
    "\n",
    "# TODO: Number of testing examples.\n",
    "n_test = X_test.shape[0]\n",
    "\n",
    "# TODO: What's the shape of an traffic sign image?\n",
    "image_shape = X_train[0].shape\n",
    "\n",
    "# TODO: How many unique classes/labels there are in the dataset.\n",
    "n_classes = len(set(y_valid))\n",
    "\n",
    "print(\"Number of training examples =\", n_train)\n",
    "print(\"Number of testing examples =\", n_test)\n",
    "print(\"Image data shape =\", image_shape)\n",
    "print(\"Number of classes =\", n_classes)"
   ]
  },
  {
   "cell_type": "markdown",
   "metadata": {},
   "source": [
    "### Include an exploratory visualization of the dataset"
   ]
  },
  {
   "cell_type": "markdown",
   "metadata": {},
   "source": [
    "Visualize the German Traffic Signs Dataset using the pickled file(s). This is open ended, suggestions include: plotting traffic sign images, plotting the count of each sign, etc. \n",
    "\n",
    "The [Matplotlib](http://matplotlib.org/) [examples](http://matplotlib.org/examples/index.html) and [gallery](http://matplotlib.org/gallery.html) pages are a great resource for doing visualizations in Python.\n",
    "\n",
    "**NOTE:** It's recommended you start with something simple first. If you wish to do more, come back to it after you've completed the rest of the sections. It can be interesting to look at the distribution of classes in the training, validation and test set. Is the distribution the same? Are there more examples of some classes than others?"
   ]
  },
  {
   "cell_type": "code",
   "execution_count": 6,
   "metadata": {},
   "outputs": [
    {
     "name": "stdout",
     "output_type": "stream",
     "text": [
      "4\n"
     ]
    },
    {
     "data": {
      "image/png": "[encoded data removed]",
      "text/plain": [
       "<matplotlib.figure.Figure at 0x7f15ac6d1dd8>"
      ]
     },
     "metadata": {
      "needs_background": "light"
     },
     "output_type": "display_data"
    }
   ],
   "source": [
    "### Data exploration visualization code goes here.\n",
    "### Feel free to use as many code cells as needed.\n",
    "# Visualizations will be shown in the notebook.\n",
    "%matplotlib inline\n",
    "while True:\n",
    "    index = np.random.randint(0,len(y_train))\n",
    "    plt.imshow(X_train[index])\n",
    "    if y_train[index] == 4:\n",
    "        print(y_train[index])\n",
    "        break"
   ]
  },
  {
   "cell_type": "markdown",
   "metadata": {},
   "source": [
    "----\n",
    "\n",
    "## Step 2: Design and Test a Model Architecture\n",
    "\n",
    "Design and implement a deep learning model that learns to recognize traffic signs. Train and test your model on the [German Traffic Sign Dataset](http://benchmark.ini.rub.de/?section=gtsrb&subsection=dataset).\n",
    "\n",
    "The LeNet-5 implementation shown in the [classroom](https://classroom.udacity.com/nanodegrees/nd013/parts/fbf77062-5703-404e-b60c-95b78b2f3f9e/modules/6df7ae49-c61c-4bb2-a23e-6527e69209ec/lessons/601ae704-1035-4287-8b11-e2c2716217ad/concepts/d4aca031-508f-4e0b-b493-e7b706120f81) at the end of the CNN lesson is a solid starting point. You'll have to change the number of classes and possibly the preprocessing, but aside from that it's plug and play! \n",
    "\n",
    "With the LeNet-5 solution from the lecture, you should expect a validation set accuracy of about 0.89. To meet specifications, the validation set accuracy will need to be at least 0.93. It is possible to get an even higher accuracy, but 0.93 is the minimum for a successful project submission. \n",
    "\n",
    "There are various aspects to consider when thinking about this problem:\n",
    "\n",
    "- Neural network architecture (is the network over or underfitting?)\n",
    "- Play around preprocessing techniques (normalization, rgb to grayscale, etc)\n",
    "- Number of examples per label (some have more than others).\n",
    "- Generate fake data.\n",
    "\n",
    "Here is an example of a [published baseline model on this problem](http://yann.lecun.com/exdb/publis/pdf/sermanet-ijcnn-11.pdf). It's not required to be familiar with the approach used in the paper but, it's good practice to try to read papers like these."
   ]
  },
  {
   "cell_type": "markdown",
   "metadata": {},
   "source": [
    "### Pre-process the Data Set (normalization, grayscale, etc.)"
   ]
  },
  {
   "cell_type": "markdown",
   "metadata": {},
   "source": [
    "Minimally, the image data should be normalized so that the data has mean zero and equal variance. For image data, `(pixel - 128)/ 128` is a quick way to approximately normalize the data and can be used in this project. \n",
    "\n",
    "Other pre-processing steps are optional. You can try different techniques to see if it improves performance. \n",
    "\n",
    "Use the code cell (or multiple code cells, if necessary) to implement the first step of your project."
   ]
  },
  {
   "cell_type": "code",
   "execution_count": 7,
   "metadata": {},
   "outputs": [],
   "source": [
    "### Preprocess the data here. It is required to normalize the data. Other preprocessing steps could include \n",
    "### converting to grayscale, etc.\n",
    "### Feel free to use as many code cells as needed."
   ]
  },
  {
   "cell_type": "code",
   "execution_count": 8,
   "metadata": {},
   "outputs": [],
   "source": [
    "#### Pre-process\n",
    "\n",
    "x_train = X_train.astype(np.float32)\n",
    "x_train = (x_train)/255\n",
    "x_valid = X_valid.astype(np.float32)\n",
    "x_valid = (x_valid)/255\n",
    "x_test = X_test.astype(np.float32)\n",
    "x_test = (x_test)/255"
   ]
  },
  {
   "cell_type": "code",
   "execution_count": 9,
   "metadata": {},
   "outputs": [],
   "source": [
    "from sklearn.utils import shuffle\n",
    "\n",
    "x_train, y_train = shuffle(x_train, y_train)"
   ]
  },
  {
   "cell_type": "markdown",
   "metadata": {},
   "source": [
    "### Model Architecture"
   ]
  },
  {
   "cell_type": "code",
   "execution_count": 10,
   "metadata": {},
   "outputs": [],
   "source": [
    "### Define your architecture here.\n",
    "### Feel free to use as many code cells as needed."
   ]
  },
  {
   "cell_type": "code",
   "execution_count": 11,
   "metadata": {},
   "outputs": [],
   "source": [
    "import tensorflow as tf\n",
    "\n",
    "EPOCHS = 60\n",
    "BATCH_SIZE = 128"
   ]
  },
  {
   "cell_type": "code",
   "execution_count": 12,
   "metadata": {},
   "outputs": [],
   "source": [
    "# from tensorflow.contrib.layers import flatten\n",
    "\n",
    "# def LeNet(x):    \n",
    "#     # Arguments used for tf.truncated_normal, randomly defines variables for the weights and biases for each layer\n",
    "#     mu = 0\n",
    "#     sigma = 0.1\n",
    "    \n",
    "#     conv_weights = [\n",
    "#         tf.Variable(tf.truncated_normal([5, 5, 3, 6], mu, sigma)),\n",
    "#         tf.Variable(tf.truncated_normal([5, 5, 6, 16], mu, sigma)),\n",
    "#     ]\n",
    "#     conv_bias = [\n",
    "#         tf.Variable(tf.zeros(6)),\n",
    "#         tf.Variable(tf.zeros(16))\n",
    "#     ]\n",
    "    \n",
    "#     flat_weights = [\n",
    "#         tf.Variable(tf.truncated_normal([400, 120], mu, sigma)),\n",
    "#         tf.Variable(tf.truncated_normal([120, 84], mu, sigma)),\n",
    "#         tf.Variable(tf.truncated_normal([84, 43], mu, sigma))\n",
    "#     ]\n",
    "#     flat_bias = [\n",
    "#         tf.Variable(tf.zeros(120)),\n",
    "#         tf.Variable(tf.zeros(84)),\n",
    "#         tf.Variable(tf.zeros(43))\n",
    "#     ]\n",
    "    \n",
    "#     # Layer 1: Convolutional. Input = 32x32x3. Output = 28x28x6.\n",
    "#     conv1 = tf.nn.conv2d(x, conv_weights[0], strides=[1, 1, 1, 1], padding='VALID')\n",
    "#     conv1 = tf.nn.bias_add(conv1, conv_bias[0])\n",
    "    \n",
    "#     # Activation.\n",
    "#     conv1 = tf.nn.relu(conv1)\n",
    "\n",
    "#     # Pooling. Input = 28x28x6. Output = 14x14x6.\n",
    "#     pool1 = tf.nn.max_pool(conv1, strides=[1, 2, 2, 1], ksize=[1, 2, 2, 1], padding='VALID')\n",
    "    \n",
    "#     # Layer 2: Convolutional. Output = 10x10x16.\n",
    "#     conv2 = tf.nn.conv2d(pool1, conv_weights[1], strides=[1, 1, 1, 1], padding='VALID')\n",
    "#     conv2 = tf.nn.bias_add(conv2, conv_bias[1])\n",
    "\n",
    "#     # Activation.\n",
    "#     conv2 = tf.nn.relu(conv2)\n",
    "\n",
    "#     # Pooling. Input = 10x10x16. Output = 5x5x16.\n",
    "#     pool2 = tf.nn.max_pool(conv2, strides=[1, 2, 2, 1], ksize=[1, 2, 2, 1], padding='VALID')\n",
    "\n",
    "#     # Flatten. Input = 5x5x16. Output = 400.\n",
    "#     flat2 = flatten(pool2)\n",
    "    \n",
    "#     # Layer 3: Fully Connected. Input = 400. Output = 120.\n",
    "#     flat3 = tf.add(tf.matmul(flat2, flat_weights[0]), flat_bias[0])\n",
    "    \n",
    "#     # Activation.\n",
    "#     flat3 = tf.nn.relu(flat3)\n",
    "\n",
    "#     # Layer 4: Fully Connected. Input = 120. Output = 84.\n",
    "#     flat4 = tf.add(tf.matmul(flat3, flat_weights[1]), flat_bias[1])\n",
    "    \n",
    "#     # Activation.\n",
    "#     flat4 = tf.nn.relu(flat4)\n",
    "\n",
    "#     # Layer 5: Fully Connected. Input = 84. Output = 43.\n",
    "#     logits = tf.add(tf.matmul(flat4, flat_weights[2]), flat_bias[2])\n",
    "#     return logits"
   ]
  },
  {
   "cell_type": "code",
   "execution_count": 13,
   "metadata": {},
   "outputs": [],
   "source": [
    "# from tensorflow.contrib.layers import flatten\n",
    "\n",
    "# def LeNet(x):    \n",
    "#     # Arguments used for tf.truncated_normal, randomly defines variables for the weights and biases for each layer\n",
    "#     mu = 0\n",
    "#     sigma = 0.1\n",
    "    \n",
    "#     conv_weights = [\n",
    "#         tf.Variable(tf.truncated_normal([5, 5, 3, 20], mu, sigma)),\n",
    "#         tf.Variable(tf.truncated_normal([5, 5, 20, 60], mu, sigma)),\n",
    "#     ]\n",
    "#     conv_bias = [\n",
    "#         tf.Variable(tf.zeros(20)),\n",
    "#         tf.Variable(tf.zeros(60))\n",
    "#     ]\n",
    "    \n",
    "#     flat_weights = [\n",
    "#         tf.Variable(tf.truncated_normal([1500, 400], mu, sigma)),\n",
    "#         tf.Variable(tf.truncated_normal([400, 129], mu, sigma)),\n",
    "#         tf.Variable(tf.truncated_normal([129, 43], mu, sigma))\n",
    "#     ]\n",
    "#     flat_bias = [\n",
    "#         tf.Variable(tf.zeros(400)),\n",
    "#         tf.Variable(tf.zeros(129)),\n",
    "#         tf.Variable(tf.zeros(43))\n",
    "#     ]\n",
    "    \n",
    "#     # Layer 1: Convolutional. Input = 32x32x3. Output = 28x28x6.\n",
    "#     conv1 = tf.nn.conv2d(x, conv_weights[0], strides=[1, 1, 1, 1], padding='VALID')\n",
    "#     conv1 = tf.nn.bias_add(conv1, conv_bias[0])\n",
    "    \n",
    "#     # Activation.\n",
    "#     conv1 = tf.nn.relu(conv1)\n",
    "\n",
    "#     # Pooling. Input = 28x28x6. Output = 14x14x6.\n",
    "#     pool1 = tf.nn.max_pool(conv1, strides=[1, 2, 2, 1], ksize=[1, 2, 2, 1], padding='VALID')\n",
    "    \n",
    "#     # Layer 2: Convolutional. Output = 10x10x16.\n",
    "#     conv2 = tf.nn.conv2d(pool1, conv_weights[1], strides=[1, 1, 1, 1], padding='VALID')\n",
    "#     conv2 = tf.nn.bias_add(conv2, conv_bias[1])\n",
    "\n",
    "#     # Activation.\n",
    "#     conv2 = tf.nn.relu(conv2)\n",
    "\n",
    "#     # Pooling. Input = 10x10x16. Output = 5x5x16.\n",
    "#     pool2 = tf.nn.max_pool(conv2, strides=[1, 2, 2, 1], ksize=[1, 2, 2, 1], padding='VALID')\n",
    "\n",
    "#     # Flatten. Input = 5x5x16. Output = 400.\n",
    "#     flat2 = flatten(pool2)\n",
    "    \n",
    "#     # Layer 3: Fully Connected. Input = 400. Output = 120.\n",
    "#     flat3 = tf.add(tf.matmul(flat2, flat_weights[0]), flat_bias[0])\n",
    "    \n",
    "#     # Activation.\n",
    "#     flat3 = tf.nn.relu(flat3)\n",
    "\n",
    "#     # Layer 4: Fully Connected. Input = 120. Output = 84.\n",
    "#     flat4 = tf.add(tf.matmul(flat3, flat_weights[1]), flat_bias[1])\n",
    "    \n",
    "#     # Activation.\n",
    "#     flat4 = tf.nn.relu(flat4)\n",
    "\n",
    "#     # Layer 5: Fully Connected. Input = 84. Output = 43.\n",
    "#     logits = tf.add(tf.matmul(flat4, flat_weights[2]), flat_bias[2])\n",
    "#     return logits"
   ]
  },
  {
   "cell_type": "code",
   "execution_count": 14,
   "metadata": {},
   "outputs": [],
   "source": [
    "# from tensorflow.contrib.layers import flatten\n",
    "\n",
    "# mu = 0\n",
    "# sigma = 0.1\n",
    "\n",
    "# conv_weights = [\n",
    "#     tf.Variable(tf.truncated_normal([5, 5, 3, 30], mu, sigma), name='conv_weights_0'),\n",
    "#     tf.Variable(tf.truncated_normal([5, 5, 30, 90], mu, sigma), name='conv_weights_1'),\n",
    "# ]\n",
    "# conv_bias = [\n",
    "#     tf.Variable(tf.zeros(30), name='conv_bias_0'),\n",
    "#     tf.Variable(tf.zeros(90), name='conv_weights_1')\n",
    "# ]\n",
    "\n",
    "# flat_weights = [\n",
    "#     tf.Variable(tf.truncated_normal([2250, 750], mu, sigma), name='flat_weights_0'),\n",
    "#     tf.Variable(tf.truncated_normal([750, 250], mu, sigma), name='flat_weights_1'),\n",
    "#     tf.Variable(tf.truncated_normal([250, 43], mu, sigma), name='flat_weights_2')\n",
    "# ]\n",
    "# flat_bias = [\n",
    "#     tf.Variable(tf.zeros(750), name='flat_bias_0'),\n",
    "#     tf.Variable(tf.zeros(250), name='flat_bias_1'),\n",
    "#     tf.Variable(tf.zeros(43), name='flat_bias_2')\n",
    "# ]\n"
   ]
  },
  {
   "cell_type": "code",
   "execution_count": 15,
   "metadata": {},
   "outputs": [],
   "source": [
    "from tensorflow.contrib.layers import flatten\n",
    "\n",
    "mu = 0\n",
    "sigma = 0.1\n",
    "\n",
    "conv_weights = [\n",
    "    tf.Variable(tf.truncated_normal([5, 5, 3, 20], mu, sigma), name='conv_weights_0'),\n",
    "    tf.Variable(tf.truncated_normal([5, 5, 20, 60], mu, sigma), name='conv_weights_1'),\n",
    "]\n",
    "conv_bias = [\n",
    "    tf.Variable(tf.zeros(20), name='conv_bias_0'),\n",
    "    tf.Variable(tf.zeros(60), name='conv_bias_1')\n",
    "]\n",
    "\n",
    "flat_weights = [\n",
    "    tf.Variable(tf.truncated_normal([1500, 400], mu, sigma), name='flat_weights_0'),\n",
    "    tf.Variable(tf.truncated_normal([400, 129], mu, sigma), name='flat_weights_1'),\n",
    "    tf.Variable(tf.truncated_normal([129, 43], mu, sigma), name='flat_weights_2')\n",
    "]\n",
    "flat_bias = [\n",
    "    tf.Variable(tf.zeros(400), name='flat_bias_0'),\n",
    "    tf.Variable(tf.zeros(129), name='flat_bias_1'),\n",
    "    tf.Variable(tf.zeros(43), name='flat_bias_2')\n",
    "]\n"
   ]
  },
  {
   "cell_type": "code",
   "execution_count": 16,
   "metadata": {},
   "outputs": [],
   "source": [
    "def LeNet(x):    \n",
    "    # Arguments used for tf.truncated_normal, randomly defines variables for the weights and biases for each layer\n",
    "    # Layer 1: Convolutional. Input = 32x32x3. Output = 28x28x6.\n",
    "    conv1 = tf.nn.conv2d(x, conv_weights[0], strides=[1, 1, 1, 1], padding='VALID')\n",
    "    conv1 = tf.nn.bias_add(conv1, conv_bias[0])\n",
    "    \n",
    "    # Activation.\n",
    "    conv1 = tf.nn.relu(conv1)\n",
    "\n",
    "    # Pooling. Input = 28x28x6. Output = 14x14x6.\n",
    "    pool1 = tf.nn.max_pool(conv1, strides=[1, 2, 2, 1], ksize=[1, 2, 2, 1], padding='VALID')\n",
    "    \n",
    "    # Layer 2: Convolutional. Output = 10x10x16.\n",
    "    conv2 = tf.nn.conv2d(pool1, conv_weights[1], strides=[1, 1, 1, 1], padding='VALID')\n",
    "    conv2 = tf.nn.bias_add(conv2, conv_bias[1])\n",
    "\n",
    "    # Activation.\n",
    "    conv2 = tf.nn.relu(conv2)\n",
    "\n",
    "    # Pooling. Input = 10x10x16. Output = 5x5x16.\n",
    "    pool2 = tf.nn.max_pool(conv2, strides=[1, 2, 2, 1], ksize=[1, 2, 2, 1], padding='VALID')\n",
    "\n",
    "    # Flatten. Input = 5x5x16. Output = 400.\n",
    "    flat2 = flatten(pool2)\n",
    "    \n",
    "    # Layer 3: Fully Connected. Input = 400. Output = 120.\n",
    "    flat3 = tf.add(tf.matmul(flat2, flat_weights[0]), flat_bias[0])\n",
    "    \n",
    "    # Activation.\n",
    "    flat3 = tf.nn.relu(flat3)\n",
    "\n",
    "    # Layer 4: Fully Connected. Input = 120. Output = 84.\n",
    "    flat4 = tf.add(tf.matmul(flat3, flat_weights[1]), flat_bias[1])\n",
    "    \n",
    "    # Activation.\n",
    "    flat4 = tf.nn.relu(flat4)\n",
    "\n",
    "    # Layer 5: Fully Connected. Input = 84. Output = 43.\n",
    "    logits = tf.add(tf.matmul(flat4, flat_weights[2]), flat_bias[2])\n",
    "    return logits"
   ]
  },
  {
   "cell_type": "code",
   "execution_count": 17,
   "metadata": {},
   "outputs": [
    {
     "name": "stdout",
     "output_type": "stream",
     "text": [
      "Tensor(\"Add_2:0\", shape=(10, 43), dtype=float32)\n"
     ]
    }
   ],
   "source": [
    "example = x_train[:10]\n",
    "example = tf.constant(example)\n",
    "out_ex = LeNet(example)\n",
    "print(out_ex)"
   ]
  },
  {
   "cell_type": "code",
   "execution_count": 18,
   "metadata": {},
   "outputs": [],
   "source": [
    "def tfprint(var):\n",
    "    with tf.Session() as print_sess:\n",
    "        print_out = print_sess.run(var)\n",
    "    print(print_out)"
   ]
  },
  {
   "cell_type": "markdown",
   "metadata": {},
   "source": [
    "### Train, Validate and Test the Model"
   ]
  },
  {
   "cell_type": "markdown",
   "metadata": {},
   "source": [
    "A validation set can be used to assess how well the model is performing. A low accuracy on the training and validation\n",
    "sets imply underfitting. A high accuracy on the training set but low accuracy on the validation set implies overfitting."
   ]
  },
  {
   "cell_type": "code",
   "execution_count": 19,
   "metadata": {},
   "outputs": [],
   "source": [
    "img = tf.placeholder(tf.float32, (None, 32, 32, 3), name='img_0')\n",
    "label = tf.placeholder(tf.int32, (None), name='label_0')\n",
    "one_hot_label = tf.one_hot(label, 43)"
   ]
  },
  {
   "cell_type": "code",
   "execution_count": 20,
   "metadata": {},
   "outputs": [],
   "source": [
    "## Training Pipeline\n",
    "learning_rate = 0.002\n",
    "logits = LeNet(img)\n",
    "cross_entropy = tf.nn.softmax_cross_entropy_with_logits(logits=logits, labels=one_hot_label)\n",
    "loss_operation = tf.reduce_mean(cross_entropy)\n",
    "optimizer = tf.train.AdamOptimizer(learning_rate=learning_rate)\n",
    "training_operation = optimizer.minimize(loss_operation)"
   ]
  },
  {
   "cell_type": "code",
   "execution_count": 21,
   "metadata": {},
   "outputs": [],
   "source": [
    "## Evaluation Pipeline\n",
    "correct_prediction = tf.equal(tf.argmax(logits, 1), tf.argmax(one_hot_label, 1))\n",
    "accuracy_operation = tf.reduce_mean(tf.cast(correct_prediction, tf.float32))"
   ]
  },
  {
   "cell_type": "code",
   "execution_count": 22,
   "metadata": {},
   "outputs": [],
   "source": [
    "## Evaluation Function\n",
    "def evaluate(x, y):\n",
    "    num_samples = x.shape[0]\n",
    "    d_sess = tf.get_default_session()\n",
    "    acc_sum = 0\n",
    "    for batch_start in range(0, num_samples, BATCH_SIZE):\n",
    "        x_batch, y_batch = x[batch_start:batch_start+BATCH_SIZE], y[batch_start:batch_start+BATCH_SIZE]\n",
    "        acc = d_sess.run(accuracy_operation, feed_dict={img: x_batch, label: y_batch})\n",
    "        acc_sum += (acc * len(x_batch))\n",
    "    final_acc = acc_sum/num_samples\n",
    "    return final_acc        "
   ]
  },
  {
   "cell_type": "code",
   "execution_count": 27,
   "metadata": {},
   "outputs": [
    {
     "name": "stdout",
     "output_type": "stream",
     "text": [
      "Accuracy of Epoch-1: 86.43990927272372% ......... 95.07936503070823%\n",
      "Accuracy of Epoch-2: 89.56916102476401% ......... 97.32426301422032%\n",
      "Accuracy of Epoch-3: 93.19727891426778% ......... 99.09297047018194%\n",
      "Accuracy of Epoch-4: 93.17460320163477% ......... 99.29705215419501%\n",
      "Accuracy of Epoch-5: 93.10657588803039% ......... 99.38775505068081%\n",
      "Accuracy of Epoch-6: 92.49433104413437% ......... 99.13832199546485%\n",
      "Accuracy of Epoch-7: 93.83219954648526% ......... 99.31972783979646%\n",
      "Accuracy of Epoch-8: 92.69841262272426% ......... 99.59183673469387%\n",
      "Accuracy of Epoch-9: 93.78684810500026% ......... 99.65986394557824%\n",
      "Accuracy of Epoch-10: 94.5351473436334% ......... 99.81859405294838%\n",
      "Accuracy of Epoch-11: 93.83219949782841% ......... 98.9795918367347%\n",
      "Accuracy of Epoch-12: 93.42403623252228% ......... 99.27437636587355%\n",
      "Accuracy of Epoch-13: 92.99319728431789% ......... 99.0249433106576%\n",
      "Accuracy of Epoch-14: 93.31065757474661% ......... 98.79818594104309%\n",
      "Accuracy of Epoch-15: 93.92290252136264% ......... 99.56916099773242%\n",
      "Accuracy of Epoch-16: 95.07936507936508% ......... 99.79591836734694%\n",
      "Accuracy of Epoch-17: 95.17006805424248% ......... 99.9546485260771%\n",
      "Accuracy of Epoch-18: 95.94104303254022% ......... 99.8639455782313%\n",
      "Accuracy of Epoch-19: 93.17460317460318% ......... 99.34240360378949%\n",
      "Accuracy of Epoch-20: 96.05442176870748% ......... 99.97732426303855%\n",
      "Accuracy of Epoch-21: 95.10204081632652% ......... 99.8639455782313%\n",
      "Accuracy of Epoch-22: 93.01587294288774% ......... 99.70521541950113%\n",
      "Accuracy of Epoch-23: 93.58276639395561% ......... 99.00226757369614%\n",
      "Accuracy of Epoch-24: 95.98639445510311% ......... 99.75056689342404%\n",
      "Accuracy of Epoch-25: 95.32879816972209% ......... 99.75056689342404%\n",
      "Accuracy of Epoch-26: 94.4897959021484% ......... 99.47845804988663%\n",
      "Accuracy of Epoch-27: 94.62585036716764% ......... 99.8639455782313%\n",
      "Accuracy of Epoch-28: 95.44217684912303% ......... 99.72789110510257%\n",
      "Accuracy of Epoch-29: 95.44217682749776% ......... 99.9092970521542%\n",
      "Accuracy of Epoch-30: 95.6235827150799% ......... 99.84126984126985%\n",
      "Accuracy of Epoch-31: 94.94331068462796% ......... 99.54648526077098%\n",
      "Accuracy of Epoch-32: 94.10430840083531% ......... 99.2063491549892%\n",
      "Accuracy of Epoch-33: 95.01133786037124% ......... 99.79591836734694%\n",
      "Accuracy of Epoch-34: 94.78458047724094% ......... 99.43310660299531%\n",
      "Accuracy of Epoch-35: 96.03174597227655% ......... 99.9092970521542%\n",
      "Accuracy of Epoch-36: 96.25850343379845% ......... 99.9546485260771%\n",
      "Accuracy of Epoch-37: 95.73696140259031% ......... 99.72789115646259%\n",
      "Accuracy of Epoch-38: 94.42176872910825% ......... 99.63718820861678%\n",
      "Accuracy of Epoch-39: 95.07936503341139% ......... 99.61451247165533%\n",
      "Accuracy of Epoch-40: 95.66893421873755% ......... 99.68253968253968%\n",
      "Accuracy of Epoch-41: 94.01360541784844% ......... 99.27437641723355%\n",
      "Accuracy of Epoch-42: 94.92063487197807% ......... 99.81859410430839%\n",
      "Accuracy of Epoch-43: 94.62585023741603% ......... 99.97732426303855%\n",
      "Accuracy of Epoch-44: 95.46485261311607% ......... 99.9546485260771%\n",
      "Accuracy of Epoch-45: 95.03401358111375% ......... 99.9092970521542%\n",
      "Accuracy of Epoch-46: 94.2403628496356% ......... 99.88662131519274%\n",
      "Accuracy of Epoch-47: 95.0793650847714% ......... 99.84126984126985%\n",
      "Accuracy of Epoch-48: 95.57823121682857% ......... 99.88662126383274%\n",
      "Accuracy of Epoch-49: 95.28344661470443% ......... 99.79591836734694%\n",
      "Accuracy of Epoch-50: 94.73922903305278% ......... 99.81859410430839%\n",
      "Accuracy of Epoch-51: 95.55555558258713% ......... 100.0%\n",
      "Accuracy of Epoch-52: 93.99092971602805% ......... 99.52380955084111%\n",
      "Accuracy of Epoch-53: 96.39455774744081% ......... 99.9546485260771%\n",
      "Accuracy of Epoch-54: 96.78004532984865% ......... 100.0%\n",
      "Accuracy of Epoch-55: 96.87074827769446% ......... 100.0%\n",
      "Accuracy of Epoch-56: 96.84807254073301% ......... 100.0%\n",
      "Accuracy of Epoch-57: 96.87074827769446% ......... 100.0%\n",
      "Accuracy of Epoch-58: 96.91609975161735% ......... 100.0%\n",
      "Accuracy of Epoch-59: 96.87074827769446% ......... 100.0%\n",
      "Accuracy of Epoch-60: 96.87074827769446% ......... 100.0%\n"
     ]
    }
   ],
   "source": [
    "saver = tf.train.Saver()\n",
    "with tf.Session() as sess:\n",
    "    sess.run(tf.global_variables_initializer())\n",
    "    total_samples = x_train.shape[0]\n",
    "    for i in range(EPOCHS):\n",
    "        x_train, y_train = shuffle(x_train, y_train)\n",
    "        batch_count = 0\n",
    "        for batch_start_idx in range(0, total_samples, BATCH_SIZE):\n",
    "            batch_count += 1\n",
    "            batch_end_idx = batch_start_idx + BATCH_SIZE\n",
    "            img_batch = x_train[batch_start_idx : batch_end_idx]\n",
    "            label_batch = y_train[batch_start_idx : batch_end_idx]\n",
    "            sess.run(training_operation, feed_dict={img: img_batch, label: label_batch})\n",
    "        accuracy = evaluate(x_valid, y_valid)\n",
    "        self_acc = evaluate(x_train[0:len(x_valid)], y_train[0:len(x_valid)])\n",
    "        print('Accuracy of Epoch-{}: {}% ......... {}%'.format(i+1, accuracy*100, self_acc*100))\n",
    "    saver.save(sess, 'Learned Model/final_learned_model_trial_4')"
   ]
  },
  {
   "cell_type": "code",
   "execution_count": 51,
   "metadata": {},
   "outputs": [
    {
     "name": "stdout",
     "output_type": "stream",
     "text": [
      "INFO:tensorflow:Restoring parameters from Learned Model/final_learned_model\n",
      "Test Accuracy = 95.73%\n"
     ]
    }
   ],
   "source": [
    "import tensorflow as tf\n",
    "saver = tf.train.Saver()\n",
    "with tf.Session() as sess:\n",
    "    saver.restore(sess, 'Learned Model/final_learned_model')\n",
    "    test_accuracy = evaluate(x_test, y_test)\n",
    "    print(\"Test Accuracy = {}%\".format(round((test_accuracy*100), 2)))"
   ]
  },
  {
   "cell_type": "markdown",
   "metadata": {},
   "source": [
    "---\n",
    "\n",
    "## Step 3: Test a Model on New Images\n",
    "\n",
    "To give yourself more insight into how your model is working, download at least five pictures of German traffic signs from the web and use your model to predict the traffic sign type.\n",
    "\n",
    "You may find `signnames.csv` useful as it contains mappings from the class id (integer) to the actual sign name."
   ]
  },
  {
   "cell_type": "markdown",
   "metadata": {},
   "source": [
    "### Load and Output the Images"
   ]
  },
  {
   "cell_type": "code",
   "execution_count": 52,
   "metadata": {},
   "outputs": [
    {
     "data": {
      "image/png": "[encoded data removed]",
      "text/plain": [
       "<matplotlib.figure.Figure at 0x7f156cb63908>"
      ]
     },
     "metadata": {
      "needs_background": "light"
     },
     "output_type": "display_data"
    }
   ],
   "source": [
    "import cv2\n",
    "\n",
    "I = []\n",
    "fig = plt.figure(figsize=(30,30))\n",
    "for idx in range(5):\n",
    "    I.append(mpimg.imread('Downloaded Traffic Signs/processed_img_{}.png'.format(idx+1))[:,:,:3])\n",
    "    fig.add_subplot(3,3,idx+1)\n",
    "    plt.imshow(I[idx])\n",
    "\n",
    "IStack = np.stack((I[0], I[1], I[2], I[3], I[4]))\n",
    "ILabels = np.array([11, 12, 36, 4, 33])"
   ]
  },
  {
   "cell_type": "markdown",
   "metadata": {},
   "source": [
    "### Predict the Sign Type for Each Image"
   ]
  },
  {
   "cell_type": "markdown",
   "metadata": {},
   "source": [
    "### Analyze Performance"
   ]
  },
  {
   "cell_type": "code",
   "execution_count": 53,
   "metadata": {},
   "outputs": [
    {
     "name": "stdout",
     "output_type": "stream",
     "text": [
      "INFO:tensorflow:Restoring parameters from Learned Model/final_learned_model\n",
      "Actual Labels: [11 12 36  4 33]\n",
      "Predicted Labels: [11 12 36  4 33]\n",
      "Test Accuracy = 100.0%\n"
     ]
    }
   ],
   "source": [
    "saver = tf.train.Saver()\n",
    "with tf.Session() as sess1:\n",
    "    saver.restore(sess1, 'Learned Model/final_learned_model')\n",
    "    test_accuracy = evaluate(IStack, ILabels)\n",
    "    lenet_output = LeNet(IStack)\n",
    "    output_label = tf.argmax(lenet_output, 1)\n",
    "    print('Actual Labels:', ILabels)\n",
    "    print('Predicted Labels:', output_label.eval())\n",
    "    print(\"Test Accuracy = {}%\".format(round((test_accuracy*100), 2)))"
   ]
  },
  {
   "cell_type": "markdown",
   "metadata": {},
   "source": [
    "### Output Top 5 Softmax Probabilities For Each Image Found on the Web"
   ]
  },
  {
   "cell_type": "code",
   "execution_count": 54,
   "metadata": {},
   "outputs": [
    {
     "name": "stdout",
     "output_type": "stream",
     "text": [
      "INFO:tensorflow:Restoring parameters from Learned Model/final_learned_model\n",
      "\n",
      "\n",
      "Image-1:\n",
      "Top Softmax Probabilities: [  1.00000000e+00   8.71560920e-37   0.00000000e+00   0.00000000e+00\n",
      "   0.00000000e+00]\n",
      "Most Probable Classes: [11 16 42 10 18]\n",
      "\n",
      "Image-2:\n",
      "Top Softmax Probabilities: [ 1.  0.  0.  0.  0.]\n",
      "Most Probable Classes: [12 42 10 18 17]\n",
      "\n",
      "Image-3:\n",
      "Top Softmax Probabilities: [ 1.  0.  0.  0.  0.]\n",
      "Most Probable Classes: [36 42 10 18 17]\n",
      "\n",
      "Image-4:\n",
      "Top Softmax Probabilities: [  1.00000000e+00   1.81956546e-24   2.09519776e-28   5.55900706e-38\n",
      "   0.00000000e+00]\n",
      "Most Probable Classes: [ 4 18  1 25 42]\n",
      "\n",
      "Image-5:\n",
      "Top Softmax Probabilities: [ 1.  0.  0.  0.  0.]\n",
      "Most Probable Classes: [33 42 10 18 17]\n",
      "\n"
     ]
    }
   ],
   "source": [
    "with tf.Session() as sess2:\n",
    "    saver.restore(sess2, 'Learned Model/final_learned_model')\n",
    "    print('\\n')\n",
    "    lenet_output = LeNet(IStack)\n",
    "    sm_probs = tf.nn.softmax(lenet_output).eval()\n",
    "    most_prob_cls = (np.argsort(sm_probs)[:,::-1])\n",
    "    for idx in range(len(IStack)):\n",
    "        top5_cls = most_prob_cls[idx][:5]\n",
    "        print('Image-{}:'.format(idx+1))\n",
    "        print('Top Softmax Probabilities:', sm_probs[idx][top5_cls])\n",
    "        print('Most Probable Classes:', top5_cls)\n",
    "        print()"
   ]
  },
  {
   "cell_type": "markdown",
   "metadata": {},
   "source": [
    "For each of the new images, print out the model's softmax probabilities to show the **certainty** of the model's predictions (limit the output to the top 5 probabilities for each image). [`tf.nn.top_k`](https://www.tensorflow.org/versions/r0.12/api_docs/python/nn.html#top_k) could prove helpful here. \n",
    "\n",
    "The example below demonstrates how tf.nn.top_k can be used to find the top k predictions for each image.\n",
    "\n",
    "`tf.nn.top_k` will return the values and indices (class ids) of the top k predictions. So if k=3, for each sign, it'll return the 3 largest probabilities (out of a possible 43) and the correspoding class ids.\n",
    "\n",
    "Take this numpy array as an example. The values in the array represent predictions. The array contains softmax probabilities for five candidate images with six possible classes. `tf.nn.top_k` is used to choose the three classes with the highest probability:\n",
    "\n",
    "```\n",
    "# (5, 6) array\n",
    "a = np.array([[ 0.24879643,  0.07032244,  0.12641572,  0.34763842,  0.07893497,\n",
    "         0.12789202],\n",
    "       [ 0.28086119,  0.27569815,  0.08594638,  0.0178669 ,  0.18063401,\n",
    "         0.15899337],\n",
    "       [ 0.26076848,  0.23664738,  0.08020603,  0.07001922,  0.1134371 ,\n",
    "         0.23892179],\n",
    "       [ 0.11943333,  0.29198961,  0.02605103,  0.26234032,  0.1351348 ,\n",
    "         0.16505091],\n",
    "       [ 0.09561176,  0.34396535,  0.0643941 ,  0.16240774,  0.24206137,\n",
    "         0.09155967]])\n",
    "```\n",
    "\n",
    "Running it through `sess.run(tf.nn.top_k(tf.constant(a), k=3))` produces:\n",
    "\n",
    "```\n",
    "TopKV2(values=array([[ 0.34763842,  0.24879643,  0.12789202],\n",
    "       [ 0.28086119,  0.27569815,  0.18063401],\n",
    "       [ 0.26076848,  0.23892179,  0.23664738],\n",
    "       [ 0.29198961,  0.26234032,  0.16505091],\n",
    "       [ 0.34396535,  0.24206137,  0.16240774]]), indices=array([[3, 0, 5],\n",
    "       [0, 1, 4],\n",
    "       [0, 5, 1],\n",
    "       [1, 3, 5],\n",
    "       [1, 4, 3]], dtype=int32))\n",
    "```\n",
    "\n",
    "Looking just at the first row we get `[ 0.34763842,  0.24879643,  0.12789202]`, you can confirm these are the 3 largest probabilities in `a`. You'll also notice `[3, 0, 5]` are the corresponding indices."
   ]
  },
  {
   "cell_type": "code",
   "execution_count": 55,
   "metadata": {},
   "outputs": [],
   "source": [
    "### Print out the top five softmax probabilities for the predictions on the German traffic sign images found on the web. \n",
    "### Feel free to use as many code cells as needed."
   ]
  },
  {
   "cell_type": "markdown",
   "metadata": {},
   "source": [
    "### Project Writeup\n",
    "\n",
    "Once you have completed the code implementation, document your results in a project writeup using this [template](https://github.com/udacity/CarND-Traffic-Sign-Classifier-Project/blob/master/writeup_template.md) as a guide. The writeup can be in a markdown or pdf file. "
   ]
  },
  {
   "cell_type": "markdown",
   "metadata": {},
   "source": [
    "> **Note**: Once you have completed all of the code implementations and successfully answered each question above, you may finalize your work by exporting the iPython Notebook as an HTML document. You can do this by using the menu above and navigating to  \\n\",\n",
    "    \"**File -> Download as -> HTML (.html)**. Include the finished document along with this notebook as your submission."
   ]
  },
  {
   "cell_type": "markdown",
   "metadata": {},
   "source": [
    "---\n",
    "\n",
    "## Step 4 (Optional): Visualize the Neural Network's State with Test Images\n",
    "\n",
    " This Section is not required to complete but acts as an additional excersise for understaning the output of a neural network's weights. While neural networks can be a great learning device they are often referred to as a black box. We can understand what the weights of a neural network look like better by plotting their feature maps. After successfully training your neural network you can see what it's feature maps look like by plotting the output of the network's weight layers in response to a test stimuli image. From these plotted feature maps, it's possible to see what characteristics of an image the network finds interesting. For a sign, maybe the inner network feature maps react with high activation to the sign's boundary outline or to the contrast in the sign's painted symbol.\n",
    "\n",
    " Provided for you below is the function code that allows you to get the visualization output of any tensorflow weight layer you want. The inputs to the function should be a stimuli image, one used during training or a new one you provided, and then the tensorflow variable name that represents the layer's state during the training process, for instance if you wanted to see what the [LeNet lab's](https://classroom.udacity.com/nanodegrees/nd013/parts/fbf77062-5703-404e-b60c-95b78b2f3f9e/modules/6df7ae49-c61c-4bb2-a23e-6527e69209ec/lessons/601ae704-1035-4287-8b11-e2c2716217ad/concepts/d4aca031-508f-4e0b-b493-e7b706120f81) feature maps looked like for it's second convolutional layer you could enter conv2 as the tf_activation variable.\n",
    "\n",
    "For an example of what feature map outputs look like, check out NVIDIA's results in their paper [End-to-End Deep Learning for Self-Driving Cars](https://devblogs.nvidia.com/parallelforall/deep-learning-self-driving-cars/) in the section Visualization of internal CNN State. NVIDIA was able to show that their network's inner weights had high activations to road boundary lines by comparing feature maps from an image with a clear path to one without. Try experimenting with a similar test to show that your trained network's weights are looking for interesting features, whether it's looking at differences in feature maps from images with or without a sign, or even what feature maps look like in a trained network vs a completely untrained one on the same sign image.\n",
    "\n",
    "<figure>\n",
    " <img src=\"visualize_cnn.png\" width=\"380\" alt=\"Combined Image\" />\n",
    " <figcaption>\n",
    " <p></p> \n",
    " <p style=\"text-align: center;\"> Your output should look something like this (above)</p> \n",
    " </figcaption>\n",
    "</figure>\n",
    " <p></p> \n"
   ]
  },
  {
   "cell_type": "code",
   "execution_count": 50,
   "metadata": {},
   "outputs": [
    {
     "ename": "TypeError",
     "evalue": "eval() got an unexpected keyword argument 'feed_dict'",
     "output_type": "error",
     "traceback": [
      "\u001b[0;31m---------------------------------------------------------------------------\u001b[0m",
      "\u001b[0;31mTypeError\u001b[0m                                 Traceback (most recent call last)",
      "\u001b[0;32m<ipython-input-50-b150544d233f>\u001b[0m in \u001b[0;36m<module>\u001b[0;34m()\u001b[0m\n\u001b[0;32m----> 1\u001b[0;31m \u001b[0moutputFeatureMap\u001b[0m\u001b[0;34m(\u001b[0m\u001b[0mIStack\u001b[0m\u001b[0;34m,\u001b[0m \u001b[0mflat_weights\u001b[0m\u001b[0;34m[\u001b[0m\u001b[0;36m0\u001b[0m\u001b[0;34m]\u001b[0m\u001b[0;34m,\u001b[0m \u001b[0mactivation_min\u001b[0m\u001b[0;34m=\u001b[0m\u001b[0;34m-\u001b[0m\u001b[0;36m1\u001b[0m\u001b[0;34m,\u001b[0m \u001b[0mactivation_max\u001b[0m\u001b[0;34m=\u001b[0m\u001b[0;34m-\u001b[0m\u001b[0;36m1\u001b[0m \u001b[0;34m,\u001b[0m\u001b[0mplt_num\u001b[0m\u001b[0;34m=\u001b[0m\u001b[0;36m1\u001b[0m\u001b[0;34m)\u001b[0m\u001b[0;34m\u001b[0m\u001b[0m\n\u001b[0m",
      "\u001b[0;32m<ipython-input-49-2f1546df7c98>\u001b[0m in \u001b[0;36moutputFeatureMap\u001b[0;34m(image_input, tf_activation, activation_min, activation_max, plt_num)\u001b[0m\n\u001b[1;32m     13\u001b[0m     \u001b[0;31m# Note: x should be the same name as your network's tensorflow data placeholder variable\u001b[0m\u001b[0;34m\u001b[0m\u001b[0;34m\u001b[0m\u001b[0m\n\u001b[1;32m     14\u001b[0m     \u001b[0;31m# If you get an error tf_activation is not defined it may be having trouble accessing the variable from inside a function\u001b[0m\u001b[0;34m\u001b[0m\u001b[0;34m\u001b[0m\u001b[0m\n\u001b[0;32m---> 15\u001b[0;31m     \u001b[0mactivation\u001b[0m \u001b[0;34m=\u001b[0m \u001b[0mtf_activation\u001b[0m\u001b[0;34m.\u001b[0m\u001b[0meval\u001b[0m\u001b[0;34m(\u001b[0m\u001b[0msession\u001b[0m\u001b[0;34m=\u001b[0m\u001b[0msess\u001b[0m\u001b[0;34m,\u001b[0m \u001b[0mfeed_dict\u001b[0m\u001b[0;34m=\u001b[0m\u001b[0;34m{\u001b[0m\u001b[0mimg\u001b[0m \u001b[0;34m:\u001b[0m \u001b[0mimage_input\u001b[0m\u001b[0;34m}\u001b[0m\u001b[0;34m)\u001b[0m\u001b[0;34m\u001b[0m\u001b[0m\n\u001b[0m\u001b[1;32m     16\u001b[0m     \u001b[0mfeaturemaps\u001b[0m \u001b[0;34m=\u001b[0m \u001b[0mactivation\u001b[0m\u001b[0;34m.\u001b[0m\u001b[0mshape\u001b[0m\u001b[0;34m[\u001b[0m\u001b[0;36m3\u001b[0m\u001b[0;34m]\u001b[0m\u001b[0;34m\u001b[0m\u001b[0m\n\u001b[1;32m     17\u001b[0m     \u001b[0mplt\u001b[0m\u001b[0;34m.\u001b[0m\u001b[0mfigure\u001b[0m\u001b[0;34m(\u001b[0m\u001b[0mplt_num\u001b[0m\u001b[0;34m,\u001b[0m \u001b[0mfigsize\u001b[0m\u001b[0;34m=\u001b[0m\u001b[0;34m(\u001b[0m\u001b[0;36m15\u001b[0m\u001b[0;34m,\u001b[0m\u001b[0;36m15\u001b[0m\u001b[0;34m)\u001b[0m\u001b[0;34m)\u001b[0m\u001b[0;34m\u001b[0m\u001b[0m\n",
      "\u001b[0;31mTypeError\u001b[0m: eval() got an unexpected keyword argument 'feed_dict'"
     ]
    }
   ],
   "source": [
    "outputFeatureMap(IStack, flat_weights[0], activation_min=-1, activation_max=-1 ,plt_num=1)"
   ]
  },
  {
   "cell_type": "code",
   "execution_count": 49,
   "metadata": {},
   "outputs": [],
   "source": [
    "### Visualize your network's feature maps here.\n",
    "### Feel free to use as many code cells as needed.\n",
    "\n",
    "# image_input: the test image being fed into the network to produce the feature maps\n",
    "# tf_activation: should be a tf variable name used during your training procedure that represents the calculated state of a specific weight layer\n",
    "# activation_min/max: can be used to view the activation contrast in more detail, by default matplot sets min and max to the actual min and max values of the output\n",
    "# plt_num: used to plot out multiple different weight feature map sets on the same block, just extend the plt number for each new feature map entry\n",
    "\n",
    "def outputFeatureMap(image_input, tf_activation, activation_min=-1, activation_max=-1 ,plt_num=1):\n",
    "    # Here make sure to preprocess your image_input in a way your network expects\n",
    "    # with size, normalization, ect if needed\n",
    "    # image_input =\n",
    "    # Note: x should be the same name as your network's tensorflow data placeholder variable\n",
    "    # If you get an error tf_activation is not defined it may be having trouble accessing the variable from inside a function\n",
    "    activation = tf_activation.eval(session=sess, feed_dict={img : image_input})\n",
    "    featuremaps = activation.shape[3]\n",
    "    plt.figure(plt_num, figsize=(15,15))\n",
    "    for featuremap in range(featuremaps):\n",
    "        plt.subplot(6,8, featuremap+1) # sets the number of feature maps to show on each row and column\n",
    "        plt.title('FeatureMap ' + str(featuremap)) # displays the feature map number\n",
    "        if activation_min != -1 & activation_max != -1:\n",
    "            plt.imshow(activation[0,:,:, featuremap], interpolation=\"nearest\", vmin =activation_min, vmax=activation_max, cmap=\"gray\")\n",
    "        elif activation_max != -1:\n",
    "            plt.imshow(activation[0,:,:, featuremap], interpolation=\"nearest\", vmax=activation_max, cmap=\"gray\")\n",
    "        elif activation_min !=-1:\n",
    "            plt.imshow(activation[0,:,:, featuremap], interpolation=\"nearest\", vmin=activation_min, cmap=\"gray\")\n",
    "        else:\n",
    "            plt.imshow(activation[0,:,:, featuremap], interpolation=\"nearest\", cmap=\"gray\")"
   ]
  },
  {
   "cell_type": "code",
   "execution_count": 27,
   "metadata": {},
   "outputs": [
    {
     "data": {
      "text/plain": [
       "'\\nNew Structure-3\\nEpoch:60, LR: 0.0015, Batch = 128\\nAcc: 96.71\\nEpoch:60, LR: 0.001, Batch = 128\\nAcc: 97.36\\n'"
      ]
     },
     "execution_count": 27,
     "metadata": {},
     "output_type": "execute_result"
    }
   ],
   "source": [
    "\"\"\"\n",
    "Epoch:20, LR: 0.001, Batch = 128\n",
    "Acc: 91.76\n",
    "Epoch:20, LR: 0.001, Batch = 128 (Norm:2)\n",
    "Acc: 91.31\n",
    "Epoch:20, LR: 0.002, Batch = 128\n",
    "Acc: 93.31\n",
    "Epoch:20, LR: 0.004, Batch = 128\n",
    "Acc: 92.29\n",
    "Epoch:20, LR: 0.01, Batch = 128\n",
    "Acc: 90.38\n",
    "Epoch:60, LR: 0.0006, Batch = 128\n",
    "Acc: 92.06\n",
    "Epoch:60, LR: 0.002, Batch = 128\n",
    "Acc: 94.03\n",
    "\"\"\"\n",
    "\"\"\"\n",
    "New Structure\n",
    "Epoch:20, LR: 0.001, Batch = 128\n",
    "Acc: 93.62\n",
    "Epoch:20, LR: 0.004, Batch = 128\n",
    "Acc: 94.33\n",
    "Epoch:40, LR: 0.001, Batch = 128\n",
    "Acc: 95.98\n",
    "Epoch:40, LR: 0.002, Batch = 128\n",
    "Acc: 95.98 (Max: 96.14)\n",
    "Epoch:60, LR: 0.001, Batch = 128\n",
    "Acc: 94.98\n",
    "Epoch:60, LR: 0.004, Batch = 128\n",
    "Acc: 95.05 (Max: 96.21)\n",
    "Epoch:60, LR: 0.0006, Batch = 128\n",
    "Acc: 94.82\n",
    "\"\"\"\n",
    "\"\"\"\n",
    "New Structure-2\n",
    "Epoch:60, LR: 0.001, Batch = 128\n",
    "Acc: 95.87\n",
    "Epoch:60, LR: 0.0005, Batch = 128\n",
    "Acc: 94.44\n",
    "Epoch:60, LR: 0.0015, Batch = 128\n",
    "Acc: 97.52% (Max: 97.61)\n",
    "Epoch:60, LR: 0.0015, Batch = 80\n",
    "Acc: 97.1%\n",
    "\"\"\"\n",
    "\"\"\"\n",
    "New Structure-3\n",
    "Epoch:60, LR: 0.0015, Batch = 128\n",
    "Acc: 96.71\n",
    "Epoch:60, LR: 0.001, Batch = 128\n",
    "Acc: 97.36\n",
    "\"\"\""
   ]
  },
  {
   "cell_type": "code",
   "execution_count": null,
   "metadata": {},
   "outputs": [],
   "source": []
  },
  {
   "cell_type": "code",
   "execution_count": null,
   "metadata": {},
   "outputs": [],
   "source": [
    "\n"
   ]
  }
 ],
 "metadata": {
  "anaconda-cloud": {},
  "kernelspec": {
   "display_name": "Python 3",
   "language": "python",
   "name": "python3"
  },
  "language_info": {
   "codemirror_mode": {
    "name": "ipython",
    "version": 3
   },
   "file_extension": ".py",
   "mimetype": "text/x-python",
   "name": "python",
   "nbconvert_exporter": "python",
   "pygments_lexer": "ipython3",
   "version": "3.6.3"
  }
 },
 "nbformat": 4,
 "nbformat_minor": 1
}
